{
  "cells": [
    {
      "cell_type": "code",
      "source": [
        "from azureml.core import Workspace, Dataset, Datastore\r\n",
        "\r\n",
        "subscription_id = ''\r\n",
        "resource_group = ''\r\n",
        "workspace_name = ''\r\n",
        "\r\n",
        "ws = Workspace(subscription_id, resource_group, workspace_name)\r\n",
        "datastore = Datastore.get(ws, \"<datastore-name>\")\r\n",
        "dataset = Dataset.get_by_name(ws, name='<dataset-name>')\r\n",
        "compute = ws.compute_targets['<compute-cluster-name>']"
      ],
      "outputs": [],
      "execution_count": null,
      "metadata": {}
    },
    {
      "cell_type": "code",
      "source": [
        "from azureml.core import Environment\r\n",
        "from azureml.core.runconfig import CondaDependencies\r\n",
        "\r\n",
        "predict_env = Environment(name=\"predict_environment\")\r\n",
        "predict_conda_deps = CondaDependencies.create(pip_packages=[\"scikit-learn==0.20.3\",\r\n",
        "                                                            \"azureml-core\",\r\n",
        "                                                            \"azureml-dataset-runtime[pandas,fuse]\",\r\n",
        "                                                            \"transformers\",\r\n",
        "                                                            \"spacy\",\r\n",
        "                                                            \"torch\",\r\n",
        "                                                            \"pylab-sdk\"\r\n",
        "                                                            ])\r\n",
        "\r\n",
        "predict_env = Environment(name=\"predict_environment\")\r\n",
        "predict_env.python.conda_dependencies = predict_conda_deps\r\n",
        "predict_env.docker.enabled = True"
      ],
      "outputs": [],
      "execution_count": null,
      "metadata": {
        "collapsed": true,
        "jupyter": {
          "source_hidden": false,
          "outputs_hidden": false
        },
        "nteract": {
          "transient": {
            "deleting": false
          }
        }
      }
    },
    {
      "cell_type": "code",
      "source": [
        "from azureml.core import Experiment\r\n",
        "from azureml.data.dataset_consumption_config import DatasetConsumptionConfig\r\n",
        "from azureml.pipeline.steps import ParallelRunStep, ParallelRunConfig\r\n",
        "from azureml.pipeline.core import PipelineData\r\n",
        "from azureml.pipeline.core import Pipeline\r\n",
        "\r\n",
        "# In a real-world scenario, you'll want to shape your process per node and nodes to fit your problem domain.\r\n",
        "parallel_run_config = ParallelRunConfig(\r\n",
        "    source_directory='.',\r\n",
        "    entry_script='scripts/batch_script.py',  # the user script to run against each input\r\n",
        "    mini_batch_size='1KB',\r\n",
        "    error_threshold=5,\r\n",
        "    output_action='append_row',\r\n",
        "    append_row_file_name=\"output_file.txt\",\r\n",
        "    environment=predict_env,\r\n",
        "    compute_target=compute, \r\n",
        "    node_count=1,\r\n",
        "    run_invocation_timeout=600\r\n",
        ")\r\n",
        "\r\n",
        "input_data_consumption = DatasetConsumptionConfig(\"dataset_config\", dataset)\r\n",
        "output_folder = PipelineData(name='output_predictions', datastore=datastore)\r\n",
        "\r\n",
        "parallelstep = ParallelRunStep(\r\n",
        "    name='example',\r\n",
        "    inputs=[input_data_consumption],\r\n",
        "    output=output_folder,\r\n",
        "    parallel_run_config=parallel_run_config\r\n",
        ")\r\n",
        "\r\n",
        "pipeline = Pipeline(workspace=ws, steps=[parallelstep])\r\n",
        "\r\n",
        "pipeline_run = Experiment(ws, 'batchjobexample').submit(pipeline)"
      ],
      "outputs": [],
      "execution_count": null,
      "metadata": {
        "collapsed": true,
        "jupyter": {
          "source_hidden": false,
          "outputs_hidden": false
        },
        "nteract": {
          "transient": {
            "deleting": false
          }
        }
      }
    }
  ],
  "metadata": {
    "kernelspec": {
      "display_name": "Python 3.6 - AzureML",
      "language": "python",
      "name": "python3-azureml"
    },
    "language_info": {
      "codemirror_mode": {
        "name": "ipython",
        "version": 3
      },
      "file_extension": ".py",
      "mimetype": "text/x-python",
      "name": "python",
      "nbconvert_exporter": "python",
      "pygments_lexer": "ipython3",
      "version": "3.6.8"
    },
    "nteract": {
      "version": "nteract-front-end@1.0.0"
    }
  },
  "nbformat": 4,
  "nbformat_minor": 2
}